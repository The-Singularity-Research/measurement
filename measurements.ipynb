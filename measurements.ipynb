{
 "cells": [
  {
   "cell_type": "markdown",
   "metadata": {},
   "source": [
    "# Quantum Measurements"
   ]
  },
  {
   "cell_type": "markdown",
   "metadata": {},
   "source": [
    "## Dependencies and Imports"
   ]
  },
  {
   "cell_type": "code",
   "execution_count": 1,
   "metadata": {},
   "outputs": [],
   "source": [
    "import pennylane as qml\n",
    "from pennylane import numpy as np"
   ]
  },
  {
   "cell_type": "markdown",
   "metadata": {},
   "source": [
    "## Introduction"
   ]
  },
  {
   "cell_type": "markdown",
   "metadata": {},
   "source": [
    "Measurement in quantum physics and quantum computing is the source of quite a lot of debate by professionals and amateurs alike. What constitutes a measurement? Must it be framed in terms of interacting particles, or could a kind of non-measurment (or *null measurment* as Penrose refers to them) be treated as a measurement? What of the outcomes of measurements of quantum systems, and the infamous *wave-function collapse*? Various interpretations of quantum mechanics have been proposed such as the *Many-Worlds Interpretation* advocated by physicists such as Sean Carroll, the *Copenhagen interpretation* originally by Bohr and Heisenberg in the mid-1920s, various kinds of *Hidden Variables* theories at times advocated for by Einstein, Weyl, and others, the *Objective Collapse Theory* of Sir Roger Penrose, one of its cousins *GRW-theory* developed by Ghirardi, Rimini, and Weber, the *Relational Quantum Physics* of Carlo Rovelli, and numerous of others. \n",
    "\n",
    "The main issue many of these interpretations attempt to address is the **measurement problem**. The *measurement problem* goes back to the foundations of quantum mechanics and must to some degree be adressed in quantum computing, if for no other reason than to make out assumptions about how quantum computers work clear. Physicists when studying a quantum mechanical system, for example, a quantum computer, want to be able to separate this system from the environment. They want to remove all external influence on the system so that they can observe what happens to the quantum computer in experiements. The traditional thinking goes something like this. If we remove external influence on the system and nothing interferes with the quantum computer's processes, then we should be able to measure its state and read off the exact state that the quantum computer is in. The quantum system that we are measuring behaves according to very clear, deterministic mathematics. The mathematics that describe the system are very precise and clear on what state the system should be in at any given time. "
   ]
  },
  {
   "cell_type": "markdown",
   "metadata": {},
   "source": [
    "One then wants to measure the system in question. For example, in some implmentations of a quantum computer a microwave pulse (light) is applied to the quantum computer. This is effectively a photon (or perhaps many photons) which hit some subset of the qubits in the quantum computer. They are reflected back, and some property is changed such as the frequency of the photon. This serves as a way of \"measuring\" the state of the system. There are essentially two problems that arise. First, interacting with a quantum system such as our system of qubits in this way actually changes the state of the qubits. In fact, hitting the system with photons is one way of manipulating the system so that it is in some state we want. So, there is no real way to measure the quantum system without interacting with it and changing it in some way. The next issue that arises is that the outcome of the measurement behave *probabilistically*. In particular, the measurement outcomes *in general* do not have a single well defined outcome. In the case of a spin-measurement on a qubit for example, we might measure things in some particular basis like the $|0\\rangle, |1\\rangle$ $Z$-basis, and if the state hasn't been prepared to be spin-up or spin-down, then we will measure $|0\\rangle$ sometimes, and $|1\\rangle$ at other times. \n",
    "\n",
    "We have seen that applying the Hadamard gate to a single qubit prepared in the $|0\\rangle$ state will put it into a superposition \n",
    "\n",
    "\\begin{align}\n",
    "H|0\\rangle = \\frac{1}{\\sqrt{2}}(|0\\rangle + |1\\rangle )\n",
    "\\end{align}"
   ]
  },
  {
   "cell_type": "markdown",
   "metadata": {},
   "source": [
    "Measuring in the $Z$-basis then gives $|0\\rangle$ 50% of the time, and $|1\\rangle$ 50% of the time. This is very often cited as a *strange* and *bizarre* phenomenon of quantum physics. For someone approaching things from an information theoretic and probabilistic perspective it may seem less odd. To someone with certain cognitive biases towards the system, such as someone who has spent many years learning \"classical physics\", it may feel very strange. What might seem less strange is the **expectation value**, which we will discuss in this chapter. The *expectation value* is the average value observed. \n",
    "\n",
    "Explaining measurement in terms of interactions with the environment, and accepting that the environment cannot be completely separated from the quantum system we are measuring is one point of view we advocate for in this book. This allows us to use a second *spooky* property of quantum physics to help explain measurment...**entanglement**. *Entanglement* is something that happens when particles interact with each other. So, a measurment in the sense we have described above where a particle interacts with a photon or a measuring device like some kind of detector or photo-sensitive film can be thought of as the system becoming entangled with that particle or device. If we allow for entanglement to happen between more and more particles, and think of \"measurment\" as a kind of dispersion of information through a large system of entangled particles, then we don't need to grapple with situations where one has to \"explain when the wave-function collapses,\" a common problem in quantum mechanics. "
   ]
  },
  {
   "cell_type": "markdown",
   "metadata": {},
   "source": [
    "What of systems where the absense of measurment can be treated as a measurement though? For example, Penrose describes *null-measurement*, where a beam of light goes through a beam-splitter, and photons are in superposition of either being *reflected* $|\\rho\\rangle$, or *transmitted* $|\\tau\\rangle$. The state of the photon is then $|\\psi\\rangle = |\\rho\\rangle + |\\tau\\rangle$. If we emit photons, and at some moment in time we have a detector that *does not register* a photon, then we can assume the photon has been *reflected*, and thus has *collapsed* into the state $|\\rho\\rangle$. "
   ]
  },
  {
   "cell_type": "markdown",
   "metadata": {},
   "source": [
    "Rather than grapple with wave-function collapse and attempt to define a moment in space and/or time when this occurs, we can think of the information being distributed in a \"wave-function\" like fashion throughout the environment as entanglement, so that the entire environment including the detector (and indeed the entire universe) is in an entangled state. The route we advocate from here is that of **Relational Quantum Physics**, developed initially by Carlo Rovelli. *Relation Quantum Mechanics* or RQM, has not traditionally been as popular as the *Copenhagen interpretation* or the *Many-Worlds Interpretation*, but it is also not incompatible with them. The RQM model is in line with a *control-theory* approach to building quantum computers as well, and we will mention briefly the connection momentarily. This is also compatible with the notion that all systems, no matter their size, are quantum mechanical in nature. \n",
    "\n",
    "One reason for treating all systems as inherently quantum mechnical, rather than say drawing a linea between the quantum realm and the classical realm, is that there have been many macroscopic quantum phenomena observed and created. One such case is of superconductivity, which is fundamental in certain quantum computing hardware. Other macroscopic quantum phenomena which may be important for applications can be observed in biological systems such as DNA, which can be used for data storage and processing and which has optical activation frequencies, making it [stable in its effective ground state at room temperature](https://www.youtube.com/watch?v=2nqHOnVTxJE&t=62s). Various other cases have been observed where matter has some kind of topological order and protection against noise, errors, and decoherence, even at room temperature. So treating all systems as fundamentally quantum in nature is necessary to our approach and to our desire to apply quantum computing techniques to solve actual problems. Now, let's have a look at what RQM is and what it says. "
   ]
  },
  {
   "cell_type": "markdown",
   "metadata": {},
   "source": [
    "Suppose Alice is observing the state of a qubit in superposition as mentioned above:\n",
    "\n",
    "\\begin{align}\n",
    "|\\psi\\rangle = H|0\\rangle = \\frac{1}{\\sqrt{2}}(|0\\rangle + |1\\rangle )\n",
    "\\end{align}"
   ]
  },
  {
   "cell_type": "markdown",
   "metadata": {},
   "source": [
    "Now, denote the Hilbert space of the qubit system by $\\mathbb{H}_S$. Let's also include a physical measureing device $O$, and let's call the system of particles that make up the measuring device by $\\mathbb{H}_O$. Now, say the measuring device sends a microwave pulse to the qubit to measure its state. Let's suppose for the moment that the outcome of the measurement is $|0\\rangle$ (the argument works the same if we assume it was $|1\\rangle$). Then there is a physical interaction between the device and the qubit. The device \"sees\" the following:\n",
    "\n",
    "\\begin{align}\n",
    "\\frac{1}{\\sqrt{2}}|0\\rangle + \\frac{1}{\\sqrt{2}}|1\\rangle \\mapsto_{\\text{measurement}} |0\\rangle\n",
    "\\end{align}\n",
    "\n",
    "However, from Alice's perspective, she may describe the interaction between the measuring device and the qubit as forcing the entanglement of the device's particles and the qubit which give a state in $\\mathbb{H}_S \\otimes \\mathbb{H}_O$ after \"measurement\":\n",
    "\n",
    "\\begin{align}\n",
    "\\frac{1}{\\sqrt{2}}(|0\\rangle + |1\\rangle) \\otimes O_{\\text{initial}} \\mapsto_{\\text{measurement}} \\frac{1}{\\sqrt{2}}|0\\rangle \\otimes O_{|0\\rangle} + \\frac{1}{\\sqrt{2}}|1\\rangle \\otimes O_{|1\\rangle}\n",
    "\\end{align}\n",
    "\n",
    "where $O_{\\text{initial}}$ is the intitial state of the measuring device. Taking this a step further, we might introduce another observer, Bob. If Alice interacts with the system $\\mathbb{H}_S \\otimes \\mathbb{H}_O$ by \"measuring\" it, i.e. by interacting with the measuring device to ascertain its state, then she becomes entangled with the system, and Bob then decribes Alice in superposition. If we let $\\mathbb{H}_A$ denote Alice's Hilbert space of particles, then Bob can describe a \"unitary evolution\" of the entangled system $\\mathbb{H}_S \\otimes \\mathbb{H}_O \\otimes \\mathbb{H}_A$. Any \"measurement\" of the system by Bob, then forces him to become entangled with this system. "
   ]
  },
  {
   "cell_type": "markdown",
   "metadata": {},
   "source": [
    "So, the idea is, one can describe the \"unitary evolution\" of a quantum mechnical system according to some \"Hamiltonian\", until one interacts with the system, by making a measurement of some kind for example. At this point, one is entangled with the system and can no longer describe the evolution of the system because one is part of the system. Another outside observer can come along, and can in principle describe the evolution of the state of the system according the the Schrödinger equation, but the moment one interacts with the system in some way, one can no longer do this and is entangled with the quantum system which is being observed. Some of these terms have not been made clear because this would require us to delve deeper into mathematics that are beyond the scope of the current chapter and this would take us too far away from our current goal of understanding how measurment can actually be performed and what they mean when we are using actual quantum computers. For this we turn to a kind of *control theory*. \n",
    "\n",
    "**Control Theory** is a mathematical discipline that deals with the control of dynamical systems in engineering. For example, a paper in Nature on Google's Sycamore processor which was used in late 2019 to show quantum supremecy, shows how to \n",
    "\n",
    "> \"execute single-qubit gates by driving 25-ns microwave pulses resonant with the qubit frequency while the qubit–qubit coupling is turned off\". \n",
    "\n",
    "They go on to describe their quantum processor saying, \n",
    "\n",
    "> \"Gate performance varies strongly with frequency owing to two-level-system defects, stray microwave modes, coupling to control lines and the readout resonator, residual stray coupling between qubits, flux noise and pulse distortions. We therefore optimize the single-qubit operation frequencies to mitigate these error mechanisms.\""
   ]
  },
  {
   "cell_type": "markdown",
   "metadata": {},
   "source": [
    "While we will not go deeply into the control theory behind controlling qubits, implementing quantum gates, and measurement, it is important to take note that this is fundamental to hardware implementations. We will revisit some of these topics later on in the text when we discuss quantum error correcting codes, which are a model of quantum computation for building hardware as well as coding certain algorithms and circuits, which are robust against external noise. Examples of error correcting codes can be found in nature in certain quantum mechanical processes, but the theory is still relatively new. Finding or construcing materials which display some kind of topological order can be seen as the hardware side of error corrction. Developing circuits which encode logical qubits into several physical qubits can be seen as the algorithmic or software side of error correction. Adding to this a layer of machine learning topological properties of matter, and of optimizing algorithms for specific hardware can be seen as yet another layer which can help in building very large scale quantum computers with millions of qubits. We will discuss this in later chapters as well. For now, let's have a closer look at measurments. "
   ]
  },
  {
   "cell_type": "markdown",
   "metadata": {},
   "source": [
    "## Self-Adjoint (Matrix) Operators\n",
    "\n",
    "Measurement in quantum mechanics and quantum computing are a common source of contention for philosophical reasons which we will discuss a little here to lighten the mood. At its most basis, measurement of a single qubit in the state \n",
    "\n",
    "\\begin{align}\n",
    "|\\psi\\rangle = \\alpha |0\\rangle + \\beta |1\\rangle =\n",
    "\\begin{pmatrix} \\alpha \\\\ \\beta \\end{pmatrix}\n",
    "\\end{align}\n",
    "\n",
    "returns the classical bit-value \"$0$\" with probability $|\\alpha|^2$ and it returns the bit-value \"$1$\" with probability $|\\beta|^2$. Remember $|\\alpha|^2 + |\\beta|^2 = 1$, and $\\alpha$ and $\\beta$ are complex numbers. Measurments can of course be much more complicated though and can involve several qubits. This requires linear algebra to understand. Let's have a look at a little of what [Wikipedia](https://en.wikipedia.org/wiki/Measurement_in_quantum_mechanics) has to say about measurements:\n",
    "\n",
    "> \"In quantum mechanics, each physical system is associated with a Hilbert space. The approach codified by John von Neumann represents a measurement upon a physical system by a \"**self-adjoint**\" operator on that Hilbert space termed an \"**observable**\". These observables play the role of measurable quantities familiar from classical physics: **position, momentum, energy, angular momentum** and so on.\" \n",
    "\n",
    "Okay, so let's go through some of these new terms and talk a little bit about what this means. First, the term **observable** for us will alway mean a matrix, like the quantum gates we have looked at in the previous chapters. The matrix is \"**self-adjoint**\" just means that this matrix, call it $A$, has the following property:\n",
    "\n",
    "\\begin{align}\n",
    "\\langle A\\psi , \\phi \\rangle = \\langle \\psi , A\\phi \\rangle\n",
    "\\end{align}\n",
    "\n",
    "or, in notation more common to physics, \n",
    "\n",
    "\\begin{align}\n",
    "\\langle \\psi |A^{\\dagger}| \\phi \\rangle = \\langle \\psi | A| \\phi \\rangle.\n",
    "\\end{align}"
   ]
  },
  {
   "cell_type": "markdown",
   "metadata": {},
   "source": [
    "This is a little abstract and the notation is a bit different from what we have seen so far, so let's look at a specific example. Let's use the following matrix:\n",
    "\n",
    "\\begin{align}\n",
    "A = \n",
    "\\begin{pmatrix}\n",
    "1 & 0 & 3 \\\\\n",
    "0 & -i & 2 \\\\\n",
    "2-i & 0 & 0\n",
    "\\end{pmatrix}\n",
    "\\end{align}\n",
    "\n",
    "The notation here in the physics literature can get a little confusing. The reason is row vectors are usually written as \"ket-vectors\". So, for example if the (column) vector is\n",
    "\n",
    "\\begin{align}\n",
    "v = \\begin{pmatrix}\n",
    "2 \\\\ 3i \\\\ 1+i\n",
    "\\end{pmatrix}\n",
    "\\end{align}\n",
    "\n",
    "then in physics it is often written as \"$|v\\rangle$\". The row vector version of it is the conjugate transpose (like a $3 \\times 1$ column matrix Hermitian conjugate from the first chapter), which in math texts is often written at $(v^*)$ and is called the \"**dual vector**. In the physics literature this would be denoted by the bra-vector $\\langle v|$. The reasons behind this come from the ability to express (column) vectors and their dual (row) vectors in terms of a basis and an inner product $\\langle \\bullet , \\bullet \\rangle$ on the vector space. This is all a bit technical mathematically and for those who do not have sufficient linear algebra background it may be a bit confusing. Here is where real confusion might arise for a beginner though. When we write something like\n",
    "\n",
    "\\begin{align}\n",
    "\\langle Av, w \\rangle = \\langle v, Aw \\rangle\n",
    "\\end{align}\n",
    "\n",
    "in the physics literature one sees the following notation:\n",
    "\n",
    "\\begin{align}\n",
    "\\langle v|A^{\\dagger}|w \\rangle = \\langle v|A|w \\rangle\n",
    "\\end{align}\n",
    "\n",
    "where $A^{\\dagger}$ is the Hermitian conjugate to $A$ that we discussed in the first chapter. What we are writing is meant to indicate that we multiply a (column) vector by a matrix $Av$, and then we are computing its \"dual\" $(Av)^* = \\langle Av |$, and then we are multiplying this row vector by a column vector by taking their inner product $\\langle Av, w \\rangle$. Let's check and see if this property actually holds for the matrix $A$ we have chosen here. "
   ]
  },
  {
   "cell_type": "markdown",
   "metadata": {},
   "source": [
    "Define the matrix vector product:\n",
    "\n",
    "\\begin{align}\n",
    "Av = \n",
    "\\begin{pmatrix}\n",
    "1 & 0 & 3 \\\\\n",
    "0 & -i & 2 \\\\\n",
    "2-i & 0 & 0\n",
    "\\end{pmatrix}\n",
    "\\begin{pmatrix}\n",
    "2 \\\\ 3i \\\\ 1+i\n",
    "\\end{pmatrix} = \n",
    "\\begin{pmatrix}\n",
    "5+3i \\\\ 5+2i \\\\ 4-2i\n",
    "\\end{pmatrix}\n",
    "\\end{align}\n",
    "\n",
    "This would usually be written as $A|v\\rangle$ in physics literature, *NOT* as $|Av\\rangle$. Now, computing its dual (row) vector using the Hermitian conjugate (the conjugate transpose) we have\n",
    "\n",
    "\\begin{align}\n",
    "\\langle Av| = \\begin{pmatrix}\n",
    "5-3i, & 5-2i, & 1-i\n",
    "\\end{pmatrix}\n",
    "\\end{align}\n",
    "\n",
    "Let's check this with a little Python code to refresh our memory from the first chapter:"
   ]
  },
  {
   "cell_type": "code",
   "execution_count": 2,
   "metadata": {},
   "outputs": [
    {
     "name": "stdout",
     "output_type": "stream",
     "text": [
      "[[5.+3.j]\n",
      " [5.+2.j]\n",
      " [4.-2.j]]\n"
     ]
    }
   ],
   "source": [
    "A = np.matrix([[1, 0, 3],\n",
    "               [0, -1j, 2],\n",
    "               [2-1j, 0, 0]])\n",
    "\n",
    "v = np.matrix([[2],\n",
    "               [3j],\n",
    "               [1+1j]])\n",
    "\n",
    "Av = A*v\n",
    "print(Av)"
   ]
  },
  {
   "cell_type": "code",
   "execution_count": 3,
   "metadata": {},
   "outputs": [
    {
     "name": "stdout",
     "output_type": "stream",
     "text": [
      "[[5.-3.j 5.-2.j 4.+2.j]]\n"
     ]
    }
   ],
   "source": [
    "# Print the dual (row) vector by computing the Hermitian conjugate:\n",
    "print(Av.H)"
   ]
  },
  {
   "cell_type": "markdown",
   "metadata": {},
   "source": [
    "Okay, so now let's say we have another (column) vector:\n",
    "\n",
    "\\begin{align}\n",
    "w = \\begin{pmatrix}\n",
    "-i \\\\ 0 \\\\ 2-3i\n",
    "\\end{pmatrix}\n",
    "\\end{align}\n",
    "\n",
    "In physics we would write this as $|w\\rangle$. Now we compute $\\langle Av,w \\rangle$:\n",
    "\n",
    "\\begin{align}\n",
    "\\begin{pmatrix}\n",
    "5-3i, & 5-2i, & 1-i\n",
    "\\end{pmatrix}\n",
    "\\begin{pmatrix}\n",
    "-i \\\\ 0 \\\\ 2-3i\n",
    "\\end{pmatrix} = 11-13i\n",
    "\\end{align}\n",
    "\n",
    "Checking this with a little Python code:"
   ]
  },
  {
   "cell_type": "code",
   "execution_count": 4,
   "metadata": {},
   "outputs": [
    {
     "name": "stdout",
     "output_type": "stream",
     "text": [
      "[[11.-13.j]]\n"
     ]
    }
   ],
   "source": [
    "# Define w:\n",
    "w = np.matrix([[-1j], \n",
    "               [0], \n",
    "               [2-3j]])\n",
    "\n",
    "# Print the inner product <Av, w>:\n",
    "print((Av.H)*w)"
   ]
  },
  {
   "cell_type": "markdown",
   "metadata": {},
   "source": [
    "Okay, now let's compute $\\langle v|Aw \\rangle$. First we take the dual of $v$, i.e. we compute $v^*$ which is a row-vector:\n",
    "\n",
    "\\begin{align}\n",
    "v^* = \\langle v| = \\begin{pmatrix}\n",
    "2, & -3i, & 1-i\n",
    "\\end{pmatrix}\n",
    "\\end{align}\n",
    "\n",
    "Next, let's compute $Aw$, which is most often written in the physics literature as $A|w\\rangle$ and *NOT* usually as $|Aw\\rangle$:\n",
    "\n",
    "\\begin{align}\n",
    "\\begin{pmatrix}\n",
    "1 & 0 & 3 \\\\\n",
    "0 & -i & 2 \\\\\n",
    "2-i & 0 & 0\n",
    "\\end{pmatrix}\n",
    "\\begin{pmatrix}\n",
    "-i \\\\ 0 \\\\ 2-3i\n",
    "\\end{pmatrix} = \n",
    "\\begin{pmatrix}\n",
    "6 - 10i \\\\\n",
    "4 - 6i \\\\\n",
    "-1 - 2i\n",
    "\\end{pmatrix}\n",
    "\\end{align}\n",
    "\n",
    "Let's do a quick Python check of our math:"
   ]
  },
  {
   "cell_type": "code",
   "execution_count": 5,
   "metadata": {},
   "outputs": [
    {
     "data": {
      "text/plain": [
       "matrix([[ 6.-10.j],\n",
       "        [ 4. -6.j],\n",
       "        [-1. -2.j]])"
      ]
     },
     "execution_count": 5,
     "metadata": {},
     "output_type": "execute_result"
    }
   ],
   "source": [
    "A*w"
   ]
  },
  {
   "cell_type": "markdown",
   "metadata": {},
   "source": [
    "Now, let's compute $\\langle v|Aw \\rangle$:\n",
    "\n",
    "\\begin{align}\n",
    "\\langle v| Aw \\rangle = \\begin{pmatrix}\n",
    "2, & -3i, & 1-i\n",
    "\\end{pmatrix}\n",
    "\\begin{pmatrix}\n",
    "6 - 10i \\\\\n",
    "4 - 6i \\\\\n",
    "-1 - 2i\n",
    "\\end{pmatrix} = -9 - 33i\n",
    "\\end{align}\n",
    "\n",
    "Just to be sure, let's check with Python:"
   ]
  },
  {
   "cell_type": "code",
   "execution_count": 6,
   "metadata": {},
   "outputs": [
    {
     "data": {
      "text/plain": [
       "matrix([[-9.-33.j]])"
      ]
     },
     "execution_count": 6,
     "metadata": {},
     "output_type": "execute_result"
    }
   ],
   "source": [
    "(v.H)*(A*w)"
   ]
  },
  {
   "cell_type": "markdown",
   "metadata": {},
   "source": [
    "So, $\\langle Av, w \\rangle = 11-13i$ and $\\langle v, Aw \\rangle = -9-33i$. So, the matrix operator $A$ we have chosen is *NOT* **self-adjoint**. To see a self-adjoint operator, let's have a look at the Hadamard gate:\n",
    "\n",
    "\\begin{align}\n",
    "H = \\frac{1}{\\sqrt{2}}\n",
    "\\begin{pmatrix}\n",
    "1 & 1 \\\\\n",
    "1 & -1\n",
    "\\end{pmatrix}\n",
    "\\end{align}\n",
    "\n",
    "Let's run some Python code to compute $\\langle Hv , w \\rangle$ and $\\langle v, Hw \\rangle$ with the following two vectors:\n",
    "\n",
    "\\begin{align}\n",
    "v = \n",
    "\\begin{pmatrix}\n",
    "2 \\\\ -i\n",
    "\\end{pmatrix}, \\quad \n",
    "w = \n",
    "\\begin{pmatrix}\n",
    "1+i \\\\ 0\n",
    "\\end{pmatrix}\n",
    "\\end{align}"
   ]
  },
  {
   "cell_type": "code",
   "execution_count": 7,
   "metadata": {},
   "outputs": [
    {
     "name": "stdout",
     "output_type": "stream",
     "text": [
      "[[0.70710678+2.12132034j]]\n",
      "[[0.70710678+2.12132034j]]\n"
     ]
    }
   ],
   "source": [
    "Hadamard = (1/np.sqrt(2))*np.matrix([[1, 1],\n",
    "                                   [1, -1]])\n",
    "\n",
    "v = np.matrix([[2],\n",
    "               [-1j]])\n",
    "\n",
    "w = np.matrix([[1+1j],\n",
    "               [0]])\n",
    "\n",
    "dualHv = (Hadamard*v).H\n",
    "\n",
    "# Print <Hv, w>\n",
    "print(dualHv*w)\n",
    "\n",
    "# Print <v, Hw>\n",
    "print((v.H)*(Hadamard*w))"
   ]
  },
  {
   "cell_type": "markdown",
   "metadata": {},
   "source": [
    "They're equal! This means the Hadamard gate is **self-adjoint**. Now, matrices in quantum mechanics that fit this property are called \"**observables**\" and are one of the fundamental building blocks of \"*measurements*\". "
   ]
  },
  {
   "cell_type": "markdown",
   "metadata": {},
   "source": [
    "## Observables"
   ]
  },
  {
   "cell_type": "markdown",
   "metadata": {},
   "source": [
    "In PennyLane there are three basic measurement related functions:\n",
    "\n",
    "```\n",
    "qml.sample()\n",
    "qml.expval()\n",
    "qml.var()\n",
    "qml.probs(wires)\n",
    "```\n",
    "\n",
    "\n",
    "- Expectation value of the supplied observables are computed using `expval(op)`. \n",
    "\n",
    "- Sample from the supplied observable, with the number of shots determined from the `dev.shots` attribute of the corresponding device we have defined can be done using `sample(op)`. \n",
    "\n",
    "- Variance of the supplied observable can be computed using `var(op)`. \n",
    "\n",
    "- Probability of each computational basis state can be found using `probs(wires)`. "
   ]
  },
  {
   "cell_type": "markdown",
   "metadata": {},
   "source": [
    "Related to measurements, are the **observables**. PennyLane has several pre-defined observable, many of them, we have already seen. They are all **Hermitian** operators (matrices):\n",
    "\n",
    "#### The Hadamard operator\n",
    "```\n",
    "qml.Hadamard(wires) \n",
    "```\n",
    "\n",
    "#### The Pauli X operator\n",
    "```\n",
    "qml.PauliX(wires)\n",
    "```\n",
    "\n",
    "#### The Pauli Y operator\n",
    "```\n",
    "qml.PauliY(wires)\n",
    "```\n",
    "\n",
    "#### The Pauli Z operator\n",
    "```\n",
    "qml.PauliZ(wires)\n",
    "```\n",
    "\n",
    "#### An arbitrary Hermitian observable.\n",
    "```\n",
    "qml.Hermitian(array, wires)\n",
    "```\n",
    "\n",
    "Each of these observables are $2 \\times 2$ matrix gates we have already seen in action, except for the arbitrary Hermitian matrix given by `qml.Hermtitian(array, wires)`. We've seen how to specify which wire a gate should act on with the Pauli operators, the Hadamard gate, the **CNOT** gate, and various others, but `qml.Hermitian()` also takes a complex matrix (array) as an argument. This matrix can act on any number of wires, but it must be an appropriate size. So, for example if we have it act on $N$-wires (or qubits), then it mist be of size $2^N \\times 2^N$. As an example, let's have a look at a Hermitian matrix that acts on $3$-qubits. "
   ]
  },
  {
   "cell_type": "markdown",
   "metadata": {},
   "source": [
    "First, let's define a random $8 \\times 8$ matrix with entries in the interval $[0, 1)$. "
   ]
  },
  {
   "cell_type": "code",
   "execution_count": 8,
   "metadata": {},
   "outputs": [],
   "source": [
    "A = np.random.rand(8, 8)"
   ]
  },
  {
   "cell_type": "markdown",
   "metadata": {},
   "source": [
    "Now, let's force it to be a complex matrix by multiplying it by the imaginary number $i$ (or $j$ in Python code)."
   ]
  },
  {
   "cell_type": "code",
   "execution_count": 9,
   "metadata": {},
   "outputs": [],
   "source": [
    "A = 1j*A"
   ]
  },
  {
   "cell_type": "markdown",
   "metadata": {},
   "source": [
    "Next, so that we can use the Hermitian conjugate function, let's force this to be a matrix and not just an array."
   ]
  },
  {
   "cell_type": "code",
   "execution_count": 10,
   "metadata": {},
   "outputs": [],
   "source": [
    "A = np.asmatrix(A)"
   ]
  },
  {
   "cell_type": "markdown",
   "metadata": {},
   "source": [
    "Now, the Hermitian property can also be phrased in terms of the entries of the matrix. In particular, if $M = M^{\\dagger}$, then the entries must satisfy the property $a_{i,j} = a_{j,i}^*$ (complex conjugate). We can force this property by defining:\n",
    "\n",
    "\\begin{align}\n",
    "M = \\frac{1}{2}(A + A^{\\dagger})\n",
    "\\end{align}"
   ]
  },
  {
   "cell_type": "code",
   "execution_count": 11,
   "metadata": {},
   "outputs": [
    {
     "name": "stdout",
     "output_type": "stream",
     "text": [
      "[[0.+0.j         0.-0.044836j   0.-0.02505578j 0.-0.35317484j\n",
      "  0.+0.08581419j 0.+0.31773477j 0.-0.32821157j 0.+0.30036915j]\n",
      " [0.+0.044836j   0.+0.j         0.-0.07611626j 0.-0.09701983j\n",
      "  0.-0.10185345j 0.-0.02351514j 0.-0.37769544j 0.+0.22061282j]\n",
      " [0.+0.02505578j 0.+0.07611626j 0.+0.j         0.+0.22297582j\n",
      "  0.-0.13556602j 0.+0.04105007j 0.+0.12760016j 0.-0.20817132j]\n",
      " [0.+0.35317484j 0.+0.09701983j 0.-0.22297582j 0.+0.j\n",
      "  0.-0.0275473j  0.+0.30621141j 0.+0.00428726j 0.+0.20223877j]\n",
      " [0.-0.08581419j 0.+0.10185345j 0.+0.13556602j 0.+0.0275473j\n",
      "  0.+0.j         0.+0.1451399j  0.-0.33681863j 0.+0.09928541j]\n",
      " [0.-0.31773477j 0.+0.02351514j 0.-0.04105007j 0.-0.30621141j\n",
      "  0.-0.1451399j  0.+0.j         0.+0.30991324j 0.+0.02572538j]\n",
      " [0.+0.32821157j 0.+0.37769544j 0.-0.12760016j 0.-0.00428726j\n",
      "  0.+0.33681863j 0.-0.30991324j 0.+0.j         0.-0.00634901j]\n",
      " [0.-0.30036915j 0.-0.22061282j 0.+0.20817132j 0.-0.20223877j\n",
      "  0.-0.09928541j 0.-0.02572538j 0.+0.00634901j 0.+0.j        ]]\n"
     ]
    }
   ],
   "source": [
    "M = (A+A.H)/2\n",
    "print(M)"
   ]
  },
  {
   "cell_type": "markdown",
   "metadata": {},
   "source": [
    "We can check to see that $M = M^{\\dagger}$ as follows:"
   ]
  },
  {
   "cell_type": "code",
   "execution_count": 12,
   "metadata": {},
   "outputs": [
    {
     "data": {
      "text/plain": [
       "matrix([[ True,  True,  True,  True,  True,  True,  True,  True],\n",
       "        [ True,  True,  True,  True,  True,  True,  True,  True],\n",
       "        [ True,  True,  True,  True,  True,  True,  True,  True],\n",
       "        [ True,  True,  True,  True,  True,  True,  True,  True],\n",
       "        [ True,  True,  True,  True,  True,  True,  True,  True],\n",
       "        [ True,  True,  True,  True,  True,  True,  True,  True],\n",
       "        [ True,  True,  True,  True,  True,  True,  True,  True],\n",
       "        [ True,  True,  True,  True,  True,  True,  True,  True]])"
      ]
     },
     "execution_count": 12,
     "metadata": {},
     "output_type": "execute_result"
    }
   ],
   "source": [
    "M == M.H"
   ]
  },
  {
   "cell_type": "markdown",
   "metadata": {},
   "source": [
    "Let's quickly check that the Pauli-Z operator is Hermitian."
   ]
  },
  {
   "cell_type": "code",
   "execution_count": 13,
   "metadata": {},
   "outputs": [],
   "source": [
    "Z = np.matrix([[1, 0],\n",
    "               [0, -1]])"
   ]
  },
  {
   "cell_type": "code",
   "execution_count": 14,
   "metadata": {},
   "outputs": [
    {
     "data": {
      "text/plain": [
       "matrix([[ True,  True],\n",
       "        [ True,  True]])"
      ]
     },
     "execution_count": 14,
     "metadata": {},
     "output_type": "execute_result"
    }
   ],
   "source": [
    "Z == Z.H"
   ]
  },
  {
   "cell_type": "markdown",
   "metadata": {},
   "source": [
    "## Expectation Values"
   ]
  },
  {
   "cell_type": "markdown",
   "metadata": {},
   "source": []
  },
  {
   "cell_type": "markdown",
   "metadata": {},
   "source": [
    "Let's have a look at some of these in action. Here we define two devices. The first device `dev1` has a single \"wire\", i.e. it only contains a single qubit on which to operate. The second device `dev2` contains 2 \"wires\". "
   ]
  },
  {
   "cell_type": "code",
   "execution_count": 15,
   "metadata": {},
   "outputs": [],
   "source": [
    "dev1 = qml.device(\"default.qubit\", wires=1, shots=20)\n",
    "dev2 = qml.device(\"default.qubit\", wires=2, shots=20)\n",
    "# dev_IBM_sim = qml.device('qiskit.ibmq', wires=2, shots=50, backend='ibmq_qasm_simulator')\n",
    "# devIBM = qml.device('qiskit.ibmq', wires=2, shots=10, backend='ibmq_ourense')"
   ]
  },
  {
   "cell_type": "markdown",
   "metadata": {},
   "source": [
    "Now, let's define a `qnode()` that samples the circuit that applies the Hadamard gate to a single qubit, 20 times:"
   ]
  },
  {
   "cell_type": "markdown",
   "metadata": {},
   "source": [
    "\\begin{quantikz}\n",
    "\\lstick{\\ket{0} } & \\gate{H} & \\qw  \\meter{$Z$}\n",
    "\\end{quantikz}"
   ]
  },
  {
   "cell_type": "code",
   "execution_count": 16,
   "metadata": {},
   "outputs": [
    {
     "name": "stdout",
     "output_type": "stream",
     "text": [
      "[ 1  1 -1  1  1 -1  1 -1  1 -1  1  1  1 -1  1  1  1  1  1  1]\n"
     ]
    }
   ],
   "source": [
    "@qml.qnode(dev1)\n",
    "def circuit():\n",
    "    qml.Hadamard(wires=0)\n",
    "    return qml.sample(qml.PauliZ(0))\n",
    "\n",
    "print(circuit())"
   ]
  },
  {
   "cell_type": "markdown",
   "metadata": {},
   "source": [
    "Let's interpret this first by computing $\\langle 0|H^{\\dagger}$ and $H |0 \\rangle $:"
   ]
  },
  {
   "cell_type": "code",
   "execution_count": 17,
   "metadata": {},
   "outputs": [
    {
     "name": "stdout",
     "output_type": "stream",
     "text": [
      "[[0.70710678 0.70710678]]\n"
     ]
    }
   ],
   "source": [
    "Had = (1/np.sqrt(2))*np.matrix([[1, 1],\n",
    "                                [1, -1]])\n",
    "\n",
    "d = np.matrix([[1],\n",
    "               [0]])\n",
    "\n",
    "psi = Had*d\n",
    "\n",
    "print(psi.H)"
   ]
  },
  {
   "cell_type": "code",
   "execution_count": 18,
   "metadata": {},
   "outputs": [
    {
     "name": "stdout",
     "output_type": "stream",
     "text": [
      "[[0.70710678]\n",
      " [0.70710678]]\n"
     ]
    }
   ],
   "source": [
    "print(psi)"
   ]
  },
  {
   "cell_type": "markdown",
   "metadata": {},
   "source": [
    "This ends up being\n",
    "\n",
    "\\begin{align}\n",
    "\\langle \\psi| = \\begin{pmatrix}\n",
    "1/\\sqrt{2}, & 1/\\sqrt{2}\n",
    "\\end{pmatrix}, \\quad \n",
    "|\\psi \\rangle\n",
    "\\begin{pmatrix}\n",
    "1/\\sqrt{2} \\\\ 1/\\sqrt{2}\n",
    "\\end{pmatrix}\n",
    "\\end{align}\n",
    "\n",
    "This can be written as,\n",
    "\n",
    "\\begin{align}\n",
    "\\langle \\psi | = \\frac{1}{\\sqrt{2}}(\\langle 0| + \\langle 1|)\n",
    "\\end{align}\n",
    "\n",
    "and\n",
    "\n",
    "\\begin{align}\n",
    "|\\psi \\rangle = \\frac{1}{\\sqrt{2}}(|0\\rangle + |1\\rangle)\n",
    "\\end{align}\n",
    "\n",
    "So, we expect to get \"$+1$\" with probability $|1/\\sqrt{2}|$ and \"$-1$\" $|1/\\sqrt{2}|$ when we return `qml.sample()` twenty times. This means we should get roughly 10 of each. What does this mean about the \"average\" value we should get? On average, we should expect to get \"$0$\". In other words, if we average out the measurements we get, we should get $0$. We can compute the **expectation value** with the following circuit, using the $Z$-basis:"
   ]
  },
  {
   "cell_type": "markdown",
   "metadata": {},
   "source": [
    "\\begin{quantikz}\n",
    "\\lstick{\\ket{0} } & \\gate{H} & \\qw  \\meter{$\\langle Z \\rangle$}\n",
    "\\end{quantikz}"
   ]
  },
  {
   "cell_type": "code",
   "execution_count": 19,
   "metadata": {},
   "outputs": [
    {
     "name": "stdout",
     "output_type": "stream",
     "text": [
      "0.0\n"
     ]
    }
   ],
   "source": [
    "@qml.qnode(dev1)\n",
    "def circuit():\n",
    "    qml.Hadamard(wires=0)\n",
    "    return qml.expval(qml.PauliZ(0))\n",
    "\n",
    "print(circuit())"
   ]
  },
  {
   "cell_type": "markdown",
   "metadata": {},
   "source": [
    "Mathematically, we compute the following for this expectation value:\n",
    "\n",
    "\\begin{align}\n",
    "\\langle 0 |H^{\\dagger} Z H |0 \\rangle = \\langle \\psi |Z| \\psi \\rangle\n",
    "\\end{align}\n",
    "\n",
    "Remember, $H^{\\dagger}$ is the Hermitian conjugate to $H$. We can write this out as matrices:\n",
    "\n",
    "\\begin{align}\n",
    "\\frac{1}{2}\\begin{pmatrix} 1, & 0 \\end{pmatrix}\n",
    "\\begin{pmatrix}\n",
    "1 & 1 \\\\\n",
    "1 & -1\n",
    "\\end{pmatrix}\n",
    "\\begin{pmatrix}\n",
    "1 & 0 \\\\\n",
    "0 & -1\n",
    "\\end{pmatrix}\n",
    "\\begin{pmatrix}\n",
    "1 & 1 \\\\\n",
    "1 & -1\n",
    "\\end{pmatrix}\n",
    "\\begin{pmatrix} 1 \\\\ 0 \\end{pmatrix}\n",
    "\\end{align}\n",
    "\n",
    "Let's have a look at some Python code that computes this for us:"
   ]
  },
  {
   "cell_type": "code",
   "execution_count": 20,
   "metadata": {},
   "outputs": [
    {
     "name": "stdout",
     "output_type": "stream",
     "text": [
      "[[0.]]\n"
     ]
    }
   ],
   "source": [
    "# Define the Hadamard gate:\n",
    "Had = (1/np.sqrt(2))*np.matrix([[1, 1],\n",
    "                                [1, -1]])\n",
    "\n",
    "# Define the initial basis state |0>:\n",
    "d = np.matrix([[1],\n",
    "               [0]])\n",
    "\n",
    "# Define the Pauli-Z gate:\n",
    "Z = np.matrix([[1, 0],\n",
    "               [0, -1]])\n",
    "\n",
    "# Define the state H|0>:\n",
    "psi = Had*d\n",
    "\n",
    "# Compute the expectation value:\n",
    "print((psi.H)*Z*psi)"
   ]
  },
  {
   "cell_type": "markdown",
   "metadata": {},
   "source": [
    "This is exactly what the above circuit just computed for us, and in general, when we compute an expectation value on a single qubit. When we see *expectation value* we should think *average value*. "
   ]
  },
  {
   "cell_type": "markdown",
   "metadata": {},
   "source": [
    "Now, let's run the same circuit but let's measure in the $X$-basis using the Pauli-$X$ gate. Remember, in this basis, \n",
    "\n",
    "\\begin{align}\n",
    "\\frac{1}{\\sqrt{2}}(|0\\rangle + |1\\rangle) = |r\\rangle = H|0\\rangle\n",
    "\\end{align}\n",
    "\n",
    "So, we should expect that the measurement comes out to be \"$+1$\" every time when we use `qml.sample(qml.PauliX(0))`.  "
   ]
  },
  {
   "cell_type": "markdown",
   "metadata": {},
   "source": [
    "\\begin{quantikz}\n",
    "\\lstick{\\ket{0} } & \\gate{H} & \\qw  \\meter{$X$}\n",
    "\\end{quantikz}"
   ]
  },
  {
   "cell_type": "code",
   "execution_count": 21,
   "metadata": {},
   "outputs": [
    {
     "name": "stdout",
     "output_type": "stream",
     "text": [
      "[1 1 1 1 1 1 1 1 1 1 1 1 1 1 1 1 1 1 1 1]\n"
     ]
    }
   ],
   "source": [
    "@qml.qnode(dev1)\n",
    "def circuit():\n",
    "    qml.Hadamard(wires=0)\n",
    "    return qml.sample(qml.PauliX(0))\n",
    "\n",
    "print(circuit())"
   ]
  },
  {
   "cell_type": "markdown",
   "metadata": {},
   "source": [
    "Okay, let's write some linear algebra code to compute the expectation value\n",
    "\n",
    "\\begin{align}\n",
    "\\langle 0|H^{\\dagger} X H |0 \\rangle = \\langle \\psi |X|\\psi \\rangle\n",
    "\\end{align}"
   ]
  },
  {
   "cell_type": "code",
   "execution_count": 22,
   "metadata": {},
   "outputs": [
    {
     "name": "stdout",
     "output_type": "stream",
     "text": [
      "[[1.]]\n"
     ]
    }
   ],
   "source": [
    "# Define the Hadamard gate:\n",
    "Had = (1/np.sqrt(2))*np.matrix([[1, 1],\n",
    "                               [1, -1]])\n",
    "       \n",
    "d = np.matrix([[1],\n",
    "               [0]])\n",
    "       \n",
    "X = np.matrix([[0, 1],\n",
    "               [1, 0]])\n",
    "       \n",
    "psi = Had*d\n",
    "       \n",
    "print((psi.H)*X*(psi))"
   ]
  },
  {
   "cell_type": "markdown",
   "metadata": {},
   "source": [
    "Now let's create a `qnode()` in PennyLane to compute the same expectation value. "
   ]
  },
  {
   "cell_type": "markdown",
   "metadata": {},
   "source": [
    "\\begin{quantikz}\n",
    "\\lstick{\\ket{0} } & \\gate{H} & \\qw  \\meter{$\\langle X \\rangle$}\n",
    "\\end{quantikz}"
   ]
  },
  {
   "cell_type": "code",
   "execution_count": 23,
   "metadata": {},
   "outputs": [
    {
     "name": "stdout",
     "output_type": "stream",
     "text": [
      "0.9999999999999996\n"
     ]
    }
   ],
   "source": [
    "@qml.qnode(dev1)\n",
    "def circuit():\n",
    "    qml.Hadamard(wires=0)\n",
    "    return qml.expval(qml.PauliX(0))\n",
    "\n",
    "print(circuit())"
   ]
  },
  {
   "cell_type": "markdown",
   "metadata": {},
   "source": [
    "As expected, the \"average value\", i.e. the *expectation value*, should be \"$+1$\" since in the $X$-basis the vector is written as\n",
    "\n",
    "\\begin{align}\n",
    "0|l\\rangle + 1|r\\rangle = |r\\rangle\n",
    "\\end{align}\n",
    "\n",
    "So, we should expect to measure $|l\\rangle$ with probability $|0|^2 = 0$, and we should expect $|r\\rangle$ with probability $|1|^2 = 1$. "
   ]
  },
  {
   "cell_type": "markdown",
   "metadata": {},
   "source": [
    "## Multi-qubit Circuits and Measurements"
   ]
  },
  {
   "cell_type": "markdown",
   "metadata": {},
   "source": [
    "Here we operate on the first qubit of 'dev2' with the Hadamard gate, then we apply the CNOT gate to both qubits. Finally, we measure the \"local\" values using the operators $Z \\otimes I$ and $I \\otimes Z$, separately. "
   ]
  },
  {
   "cell_type": "markdown",
   "metadata": {},
   "source": [
    "\\begin{quantikz}\n",
    "\\lstick{\\ket{0}} & \\gate{H} & \\ctrl{1} & \\qw  \\meter{$Z \\otimes I$} \\\\\n",
    "\\lstick{\\ket{0}} & \\qw      & \\targ{}  & \\qw  \\meter{$I \\otimes Z$}\n",
    "\\end{quantikz}"
   ]
  },
  {
   "cell_type": "code",
   "execution_count": 24,
   "metadata": {},
   "outputs": [
    {
     "name": "stdout",
     "output_type": "stream",
     "text": [
      "[[-1  1 -1  1  1  1 -1  1 -1  1 -1  1  1 -1 -1  1  1  1 -1  1]\n",
      " [-1  1 -1  1  1  1 -1  1 -1  1 -1  1  1 -1 -1  1  1  1 -1  1]]\n"
     ]
    }
   ],
   "source": [
    "@qml.qnode(dev2)\n",
    "def circuit():\n",
    "    qml.Hadamard(wires=0)\n",
    "    qml.CNOT(wires=[0, 1])\n",
    "    return qml.sample(qml.PauliZ(0)), qml.sample(qml.PauliZ(1))\n",
    "\n",
    "print(circuit())"
   ]
  },
  {
   "cell_type": "markdown",
   "metadata": {},
   "source": [
    "Now let's compute the expectation values:"
   ]
  },
  {
   "cell_type": "markdown",
   "metadata": {},
   "source": [
    "\\begin{quantikz}\n",
    "\\lstick{\\ket{0}} & \\gate{H} & \\ctrl{1} & \\qw  \\meter{$\\langle Z \\otimes I \\rangle$} \\\\\n",
    "\\lstick{\\ket{0}} & \\qw      & \\targ{}  & \\qw  \\meter{$\\langle I \\otimes Z \\rangle$}\n",
    "\\end{quantikz}"
   ]
  },
  {
   "cell_type": "code",
   "execution_count": 25,
   "metadata": {},
   "outputs": [
    {
     "name": "stdout",
     "output_type": "stream",
     "text": [
      "[0. 0.]\n"
     ]
    }
   ],
   "source": [
    "@qml.qnode(dev2)\n",
    "def circuit():\n",
    "    qml.Hadamard(wires=0)\n",
    "    qml.CNOT(wires=[0, 1])\n",
    "    return qml.expval(qml.PauliZ(0)), qml.expval(qml.PauliZ(1))\n",
    "\n",
    "print(circuit())"
   ]
  },
  {
   "cell_type": "markdown",
   "metadata": {},
   "source": [
    "Now let's measure using the operator $Z \\otimes Z$. In PennyLane code, we can multiply the two operators $(Z \\otimes I)(I \\otimes Z)$ to get this measurement using the `@` operator. "
   ]
  },
  {
   "cell_type": "markdown",
   "metadata": {},
   "source": [
    "\\begin{quantikz}\n",
    "\\lstick{\\ket{0}} & \\gate{H} & \\ctrl{1} & \\qw  \\meter{$Z \\otimes I$} \\\\\n",
    "\\lstick{\\ket{0}} & \\qw      & \\targ{}  & \\qw  \\meter{$I \\otimes Z$}\n",
    "\\end{quantikz}"
   ]
  },
  {
   "cell_type": "code",
   "execution_count": 26,
   "metadata": {},
   "outputs": [
    {
     "name": "stdout",
     "output_type": "stream",
     "text": [
      "[1 1 1 1 1 1 1 1 1 1 1 1 1 1 1 1 1 1 1 1]\n"
     ]
    }
   ],
   "source": [
    "@qml.qnode(dev2)\n",
    "def circuit():\n",
    "    qml.Hadamard(wires=0)\n",
    "    qml.CNOT(wires=[0, 1])\n",
    "    return qml.sample(qml.PauliZ(0) @ qml.PauliZ(1))\n",
    "\n",
    "print(circuit())"
   ]
  },
  {
   "cell_type": "markdown",
   "metadata": {},
   "source": [
    "Now let's get the expectation value $\\langle Z \\otimes Z \\rangle$. Again, in PennyLane code, we can multiply the two operators $(Z \\otimes I)(I \\otimes Z)$ to get this expectation value using the `@` operator."
   ]
  },
  {
   "cell_type": "markdown",
   "metadata": {},
   "source": [
    "\\begin{quantikz}\n",
    "\\lstick{\\ket{0}} & \\gate{H} & \\ctrl{1} & \\qw  \\meter{$\\langle Z \\otimes I \\rangle$} \\\\\n",
    "\\lstick{\\ket{0}} & \\qw      & \\targ{}  & \\qw  \\meter{$\\langle I \\otimes Z \\rangle$}\n",
    "\\end{quantikz}"
   ]
  },
  {
   "cell_type": "code",
   "execution_count": 27,
   "metadata": {},
   "outputs": [
    {
     "name": "stdout",
     "output_type": "stream",
     "text": [
      "0.9999999999999998\n"
     ]
    }
   ],
   "source": [
    "@qml.qnode(dev2)\n",
    "def circuit():\n",
    "    qml.Hadamard(wires=0)\n",
    "    qml.CNOT(wires=[0, 1])\n",
    "    return qml.expval(qml.PauliZ(0) @ qml.PauliZ(1))\n",
    "\n",
    "print(circuit())"
   ]
  },
  {
   "cell_type": "markdown",
   "metadata": {},
   "source": [
    "Here, we perform all of the same operations as the previous circuits, but the initial basis state is $|11\\rangle$. We apply the Hadamard gate to the first qubit of 'dev2', then we apply the CNOT gate. Finally, we measure using the $Z \\otimes I$ and $I \\otimes Z$ operators. "
   ]
  },
  {
   "cell_type": "markdown",
   "metadata": {},
   "source": [
    "\\begin{quantikz}\n",
    "\\lstick{\\ket{1}} & \\gate{H} & \\ctrl{1} & \\qw  \\meter{$Z \\otimes I$} \\\\\n",
    "\\lstick{\\ket{1}} & \\qw      & \\targ{}  & \\qw  \\meter{$I \\otimes Z$}\n",
    "\\end{quantikz}"
   ]
  },
  {
   "cell_type": "code",
   "execution_count": 28,
   "metadata": {},
   "outputs": [
    {
     "name": "stdout",
     "output_type": "stream",
     "text": [
      "[[ 1 -1 -1  1 -1  1 -1 -1  1  1  1 -1  1 -1 -1  1 -1 -1 -1  1]\n",
      " [-1  1  1 -1  1 -1  1  1 -1 -1 -1  1 -1  1  1 -1  1  1  1 -1]]\n"
     ]
    }
   ],
   "source": [
    "ud = np.array([1,1])\n",
    "\n",
    "@qml.qnode(dev2)\n",
    "def circuit():\n",
    "    qml.BasisState(ud, wires=[0,1])\n",
    "    qml.Hadamard(wires=0)\n",
    "    qml.CNOT(wires=[0, 1])\n",
    "    return qml.sample(qml.PauliZ(0)), qml.sample(qml.PauliZ(1))\n",
    "\n",
    "print(circuit())"
   ]
  },
  {
   "cell_type": "markdown",
   "metadata": {},
   "source": [
    "Now we compute the expectation values $\\langle Z \\otimes I \\rangle$ and $\\langle I \\otimes Z \\rangle$ separately. "
   ]
  },
  {
   "cell_type": "markdown",
   "metadata": {},
   "source": [
    "\\begin{quantikz}\n",
    "\\lstick{\\ket{1}} & \\gate{H} & \\ctrl{1} & \\qw  \\meter{$\\langle Z \\otimes I \\rangle$} \\\\\n",
    "\\lstick{\\ket{1}} & \\qw      & \\targ{}  & \\qw  \\meter{$\\langle I \\otimes Z \\rangle$}\n",
    "\\end{quantikz}"
   ]
  },
  {
   "cell_type": "code",
   "execution_count": 29,
   "metadata": {},
   "outputs": [
    {
     "name": "stdout",
     "output_type": "stream",
     "text": [
      "[0. 0.]\n"
     ]
    }
   ],
   "source": [
    "ud = np.array([1,1])\n",
    "\n",
    "@qml.qnode(dev2)\n",
    "def circuit():\n",
    "    qml.BasisState(ud, wires=[0,1])\n",
    "    qml.Hadamard(wires=0)\n",
    "    qml.CNOT(wires=[0, 1])\n",
    "    return qml.expval(qml.PauliZ(0)), qml.expval(qml.PauliZ(1))\n",
    "\n",
    "print(circuit())"
   ]
  },
  {
   "cell_type": "markdown",
   "metadata": {},
   "source": [
    "Again, we obtain the measurement $\\langle Z \\otimes Z \\rangle$ by multiplying $(Z \\otimes I)(I \\otimes Z)$ using the `@` operator. "
   ]
  },
  {
   "cell_type": "markdown",
   "metadata": {},
   "source": [
    "\\begin{quantikz}\n",
    "\\lstick{\\ket{0}} & \\gate{H} & \\ctrl{1} & \\qw  \\meter{$Z \\otimes I$} \\\\\n",
    "\\lstick{\\ket{0}} & \\qw      & \\targ{}  & \\qw  \\meter{$I \\otimes Z$}\n",
    "\\end{quantikz}"
   ]
  },
  {
   "cell_type": "code",
   "execution_count": 30,
   "metadata": {},
   "outputs": [
    {
     "name": "stdout",
     "output_type": "stream",
     "text": [
      "[-1 -1 -1 -1 -1 -1 -1 -1 -1 -1 -1 -1 -1 -1 -1 -1 -1 -1 -1 -1]\n"
     ]
    }
   ],
   "source": [
    "ud = np.array([1,1])\n",
    "\n",
    "@qml.qnode(dev2)\n",
    "def circuit():\n",
    "    qml.BasisState(ud, wires=[0,1])\n",
    "    qml.Hadamard(wires=0)\n",
    "    qml.CNOT(wires=[0, 1])\n",
    "    return qml.sample(qml.PauliZ(0) @ qml.PauliZ(1))\n",
    "\n",
    "print(circuit())"
   ]
  },
  {
   "cell_type": "markdown",
   "metadata": {},
   "source": [
    "Finally, we obtain the expectation value $\\langle Z \\otimes Z \\rangle$ by multiplying $(Z \\otimes I)(I \\otimes Z)$ using the `@` operator. "
   ]
  },
  {
   "cell_type": "markdown",
   "metadata": {},
   "source": [
    "\\begin{quantikz}\n",
    "\\lstick{\\ket{1}} & \\gate{H} & \\ctrl{1} & \\qw  \\meter{$\\langle Z \\otimes I \\rangle$} \\\\\n",
    "\\lstick{\\ket{1}} & \\qw      & \\targ{}  & \\qw  \\meter{$\\langle I \\otimes Z \\rangle$}\n",
    "\\end{quantikz}"
   ]
  },
  {
   "cell_type": "code",
   "execution_count": 31,
   "metadata": {},
   "outputs": [
    {
     "name": "stdout",
     "output_type": "stream",
     "text": [
      "-0.9999999999999998\n"
     ]
    }
   ],
   "source": [
    "ud = np.array([1,1])\n",
    "\n",
    "@qml.qnode(dev2)\n",
    "def circuit():\n",
    "    qml.BasisState(ud, wires=[0,1])\n",
    "    qml.Hadamard(wires=0)\n",
    "    qml.CNOT(wires=[0, 1])\n",
    "    return qml.expval(qml.PauliZ(0) @ qml.PauliZ(1))\n",
    "\n",
    "print(circuit())"
   ]
  },
  {
   "cell_type": "markdown",
   "metadata": {},
   "source": [
    "We can of course perform more complicated measurements with tensor observables. For example, take a three wire circuit and measure the observable $Z \\otimes I \\otimes X$:"
   ]
  },
  {
   "cell_type": "code",
   "execution_count": 32,
   "metadata": {},
   "outputs": [
    {
     "name": "stdout",
     "output_type": "stream",
     "text": [
      "0.0\n"
     ]
    }
   ],
   "source": [
    "# Define a new 3 qubit device\n",
    "dev3 = qml.device(\"default.qubit\", wires=3, shots=20)\n",
    "\n",
    "# Create the circuit\n",
    "@qml.qnode(dev3)\n",
    "def circuit():\n",
    "    qml.Hadamard(wires=1)\n",
    "    qml.CNOT(wires=[1, 2])\n",
    "    qml.CNOT(wires=[0, 1])\n",
    "    qml.Hadamard(wires=0)\n",
    "    return qml.expval(qml.PauliZ(0) @ qml.PauliX(2))\n",
    "\n",
    "print(circuit())"
   ]
  },
  {
   "cell_type": "markdown",
   "metadata": {},
   "source": [
    "There is no need to specify the identity matrix in the middle of $Z \\otimes I \\otimes X$. Here, PennyLane is computing the expectation value for:\n",
    "\n",
    "\\begin{align}\n",
    "(Z \\otimes I \\otimes I)(I \\otimes I \\otimes X) &= (ZI \\otimes II \\otimes IX)\\\\\n",
    "&= Z \\otimes I \\otimes X\n",
    "\\end{align}\n",
    "\n",
    "and the `@` operator it performing the multiplication $(Z \\otimes I \\otimes I)(I \\otimes I \\otimes X)$. So PennyLane \"knows\" when we write `qml.expval(qml.PauliZ(0))` that we mean to compute $\\langle Z \\otimes I \\otimes I \\rangle$. Likewise, when we write `qml.expval(qml.PauliX(2))`, PennyLane \"knows\" we want $\\langle I \\otimes I \\otimes X \\rangle$. "
   ]
  },
  {
   "cell_type": "markdown",
   "metadata": {},
   "source": [
    "## Measurements in QISKit"
   ]
  },
  {
   "cell_type": "markdown",
   "metadata": {},
   "source": [
    "Measurement in QISKit require creating a `QuantumRegister` which specifies the number of qubits (or wires), as well as a `ClassicalRegister` which will store the outcome of each measurements. So we will need as many classical bits as qubits if we want to measure every qubit. We can create a the registers and a quantum circuit in QISKit as follows. "
   ]
  },
  {
   "cell_type": "code",
   "execution_count": 33,
   "metadata": {},
   "outputs": [
    {
     "data": {
      "image/png": "[encoded data removed]",
      "text/plain": [
       "<Figure size 167.356x325.08 with 1 Axes>"
      ]
     },
     "execution_count": 33,
     "metadata": {},
     "output_type": "execute_result"
    }
   ],
   "source": [
    "from qiskit import *\n",
    "%matplotlib inline\n",
    "\n",
    "qr = QuantumRegister(4)\n",
    "cr = ClassicalRegister(4)\n",
    "qc = QuantumCircuit(qr, cr)\n",
    "qc.draw(output='mpl')"
   ]
  },
  {
   "cell_type": "markdown",
   "metadata": {},
   "source": [
    "We could also take a more abreviated version as follows."
   ]
  },
  {
   "cell_type": "code",
   "execution_count": 34,
   "metadata": {},
   "outputs": [
    {
     "data": {
      "image/png": "[encoded data removed]",
      "text/plain": [
       "<Figure size 156.52x325.08 with 1 Axes>"
      ]
     },
     "execution_count": 34,
     "metadata": {},
     "output_type": "execute_result"
    }
   ],
   "source": [
    "circ = QuantumCircuit(4,4)\n",
    "circ.draw(output='mpl')"
   ]
  },
  {
   "cell_type": "markdown",
   "metadata": {},
   "source": [
    "Measuring a single qubit in QISKit is simple. The following code measure the third qubit and stores it in the 3 classical bit. "
   ]
  },
  {
   "cell_type": "code",
   "execution_count": 35,
   "metadata": {},
   "outputs": [
    {
     "data": {
      "image/png": "[encoded data removed]",
      "text/plain": [
       "<Figure size 227.556x325.08 with 1 Axes>"
      ]
     },
     "execution_count": 35,
     "metadata": {},
     "output_type": "execute_result"
    }
   ],
   "source": [
    "qc.measure(2,2)\n",
    "qc.draw(output='mpl')"
   ]
  },
  {
   "cell_type": "markdown",
   "metadata": {},
   "source": [
    "The next command measure qubits $0$ and $3$ and stores them in the corresponding classical bits. "
   ]
  },
  {
   "cell_type": "code",
   "execution_count": 36,
   "metadata": {},
   "outputs": [
    {
     "data": {
      "image/png": "[encoded data removed]",
      "text/plain": [
       "<Figure size 347.956x325.08 with 1 Axes>"
      ]
     },
     "execution_count": 36,
     "metadata": {},
     "output_type": "execute_result"
    }
   ],
   "source": [
    "qc.measure([0,3], [0,3])\n",
    "qc.draw(output='mpl')"
   ]
  },
  {
   "cell_type": "markdown",
   "metadata": {},
   "source": [
    "If we want to actually run the circuit, we need to choose a backend device. Let's choose the `statevector_simulator` and plot the Bloch multi-vector on the Bloch spheres. "
   ]
  },
  {
   "cell_type": "code",
   "execution_count": 37,
   "metadata": {},
   "outputs": [
    {
     "data": {
      "image/png": "[encoded data removed]",
      "text/plain": [
       "<Figure size 1152x288 with 4 Axes>"
      ]
     },
     "execution_count": 37,
     "metadata": {},
     "output_type": "execute_result"
    }
   ],
   "source": [
    "from qiskit.visualization import plot_bloch_multivector\n",
    "from qiskit import Aer\n",
    "# Tell Qiskit how to simulate our circuit\n",
    "backend = Aer.get_backend('statevector_simulator') \n",
    "# Do the simulation, returning the state vector\n",
    "out_state = execute(qc,backend).result().get_statevector() \n",
    "# Display the output state vector\n",
    "plot_bloch_multivector(out_state) "
   ]
  },
  {
   "cell_type": "markdown",
   "metadata": {},
   "source": [
    "On the second circuit we define above `circ`, lets measure all qubits after applying Hadamard gates. "
   ]
  },
  {
   "cell_type": "code",
   "execution_count": 38,
   "metadata": {},
   "outputs": [
    {
     "data": {
      "image/png": "[encoded data removed]",
      "text/plain": [
       "<Figure size 457.52x325.08 with 1 Axes>"
      ]
     },
     "execution_count": 38,
     "metadata": {},
     "output_type": "execute_result"
    }
   ],
   "source": [
    "for j in range(4):\n",
    "    circ.h(j)\n",
    "    circ.measure(j,j)\n",
    "    \n",
    "circ.draw(output='mpl')"
   ]
  },
  {
   "cell_type": "markdown",
   "metadata": {},
   "source": [
    "Now, let's define a different backend to run the circuit and plot the histogram of measurements from running $1024$ shots. "
   ]
  },
  {
   "cell_type": "code",
   "execution_count": 39,
   "metadata": {},
   "outputs": [
    {
     "data": {
      "image/png": "[encoded data removed]",
      "text/plain": [
       "<Figure size 504x360 with 1 Axes>"
      ]
     },
     "execution_count": 39,
     "metadata": {},
     "output_type": "execute_result"
    }
   ],
   "source": [
    "circ.measure(2,2)\n",
    "simulator = Aer.get_backend('qasm_simulator')\n",
    "result = execute(circ, backend = simulator, shots = 1024).result()\n",
    "counts = result.get_counts()\n",
    "from qiskit.tools.visualization import plot_histogram\n",
    "plot_histogram(counts)"
   ]
  }
 ],
 "metadata": {
  "kernelspec": {
   "display_name": "Python 3",
   "language": "python",
   "name": "python3"
  },
  "language_info": {
   "codemirror_mode": {
    "name": "ipython",
    "version": 3
   },
   "file_extension": ".py",
   "mimetype": "text/x-python",
   "name": "python",
   "nbconvert_exporter": "python",
   "pygments_lexer": "ipython3",
   "version": "3.7.3"
  }
 },
 "nbformat": 4,
 "nbformat_minor": 4
}
